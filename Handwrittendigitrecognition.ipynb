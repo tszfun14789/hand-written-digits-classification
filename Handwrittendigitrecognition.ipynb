{
 "cells": [
  {
   "cell_type": "code",
   "execution_count": 88,
   "id": "12ece3db",
   "metadata": {},
   "outputs": [],
   "source": [
    "import numpy as np\n",
    "import cv2\n",
    "import matplotlib.pyplot as plt\n",
    "import tensorflow as tf\n",
    "from tensorflow.python import keras\n",
    "from keras.models import Sequential, load_model\n",
    "from keras.layers import Dense\n",
    "from keras.activations import linear, relu"
   ]
  },
  {
   "cell_type": "code",
   "execution_count": 89,
   "id": "c530f7bc",
   "metadata": {},
   "outputs": [],
   "source": [
    "# import and normalize data \n",
    "data  = tf.keras.datasets.mnist\n",
    "(xtrain, ytrain), (xtest, ytest) = data.load_data()\n",
    "\n",
    "xtrain = tf.keras.utils.normalize(xtrain, axis = 1)\n",
    "xtest = tf.keras.utils.normalize(xtest, axis = 1)"
   ]
  },
  {
   "cell_type": "code",
   "execution_count": 114,
   "id": "5c8a77bc",
   "metadata": {},
   "outputs": [],
   "source": [
    "# setup the model \n",
    "model = Sequential(\n",
    "    [\n",
    "        tf.keras.layers.Flatten(input_shape = (28, 28)),\n",
    "        Dense(128, activation = 'relu', name = \"L1\"),\n",
    "        Dense(128, activation = 'relu', name = \"L2\"),\n",
    "        Dense(128, activation = 'relu', name = \"L3\"),\n",
    "        Dense(10)\n",
    "    ], name = \"my_model\"\n",
    ")"
   ]
  },
  {
   "cell_type": "code",
   "execution_count": 115,
   "id": "b6b74df5",
   "metadata": {},
   "outputs": [],
   "source": [
    "# Using Adam optimizer and Categorical Cross entropy for loss\n",
    "model.compile(\n",
    "    loss=tf.keras.losses.SparseCategoricalCrossentropy(from_logits=True),\n",
    "    optimizer=tf.keras.optimizers.legacy.Adam(learning_rate=0.001),\n",
    ") "
   ]
  },
  {
   "cell_type": "code",
   "execution_count": 116,
   "id": "c8184bb4",
   "metadata": {},
   "outputs": [
    {
     "name": "stdout",
     "output_type": "stream",
     "text": [
      "Epoch 1/10\n",
      "1875/1875 [==============================] - 2s 829us/step - loss: 0.2538\n",
      "Epoch 2/10\n",
      "1875/1875 [==============================] - 1s 778us/step - loss: 0.1048\n",
      "Epoch 3/10\n",
      "1875/1875 [==============================] - 1s 665us/step - loss: 0.0725\n",
      "Epoch 4/10\n",
      "1875/1875 [==============================] - 1s 774us/step - loss: 0.0552\n",
      "Epoch 5/10\n",
      "1875/1875 [==============================] - 1s 690us/step - loss: 0.0426\n",
      "Epoch 6/10\n",
      "1875/1875 [==============================] - 1s 691us/step - loss: 0.0357\n",
      "Epoch 7/10\n",
      "1875/1875 [==============================] - 2s 824us/step - loss: 0.0299\n",
      "Epoch 8/10\n",
      "1875/1875 [==============================] - 1s 694us/step - loss: 0.0258\n",
      "Epoch 9/10\n",
      "1875/1875 [==============================] - 1s 669us/step - loss: 0.0237\n",
      "Epoch 10/10\n",
      "1875/1875 [==============================] - 1s 661us/step - loss: 0.0211\n"
     ]
    },
    {
     "data": {
      "text/plain": [
       "<keras.src.callbacks.History at 0x153cc5e90>"
      ]
     },
     "execution_count": 116,
     "metadata": {},
     "output_type": "execute_result"
    }
   ],
   "source": [
    "# fitting m,odel\n",
    "model.fit(xtrain, ytrain, epochs = 10)"
   ]
  },
  {
   "cell_type": "code",
   "execution_count": 139,
   "id": "d4eba38b",
   "metadata": {},
   "outputs": [
    {
     "data": {
      "image/png": "[encoded data removed]",
      "text/plain": [
       "<Figure size 640x480 with 1 Axes>"
      ]
     },
     "metadata": {},
     "output_type": "display_data"
    }
   ],
   "source": [
    "# using the model to predict some digits I wrote \n",
    "testimg = cv2.imread('2.png')[:,:,0]\n",
    "plt.imshow(testimg)\n",
    "testimg = np.invert(np.array([testimg]))"
   ]
  },
  {
   "cell_type": "code",
   "execution_count": 142,
   "id": "c670bf33",
   "metadata": {},
   "outputs": [
    {
     "name": "stdout",
     "output_type": "stream",
     "text": [
      "1/1 [==============================] - 0s 12ms/step\n"
     ]
    },
    {
     "data": {
      "text/plain": [
       "2"
      ]
     },
     "execution_count": 142,
     "metadata": {},
     "output_type": "execute_result"
    }
   ],
   "source": [
    "# returning the value with the highest probability \n",
    "prediction = model.predict(testimg)\n",
    "prediction_p = tf.nn.softmax(prediction)\n",
    "np.argmax(prediction_p)"
   ]
  },
  {
   "cell_type": "code",
   "execution_count": 141,
   "id": "0fc8d443",
   "metadata": {},
   "outputs": [
    {
     "name": "stdout",
     "output_type": "stream",
     "text": [
      "313/313 [==============================] - 0s 481us/step - loss: 0.0876\n"
     ]
    },
    {
     "data": {
      "text/plain": [
       "0.08762811869382858"
      ]
     },
     "execution_count": 141,
     "metadata": {},
     "output_type": "execute_result"
    }
   ],
   "source": [
    "# evalutate the model with the test set\n",
    "model.evaluate(xtest,ytest)"
   ]
  },
  {
   "cell_type": "code",
   "execution_count": null,
   "id": "f243f3aa",
   "metadata": {},
   "outputs": [],
   "source": []
  }
 ],
 "metadata": {
  "kernelspec": {
   "display_name": "testenv",
   "language": "python",
   "name": "testenv"
  },
  "language_info": {
   "codemirror_mode": {
    "name": "ipython",
    "version": 3
   },
   "file_extension": ".py",
   "mimetype": "text/x-python",
   "name": "python",
   "nbconvert_exporter": "python",
   "pygments_lexer": "ipython3",
   "version": "3.11.8"
  }
 },
 "nbformat": 4,
 "nbformat_minor": 5
}
